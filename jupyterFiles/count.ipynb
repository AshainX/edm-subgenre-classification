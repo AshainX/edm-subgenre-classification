{
 "cells": [
  {
   "cell_type": "code",
   "execution_count": 1,
   "metadata": {},
   "outputs": [
    {
     "name": "stdout",
     "output_type": "stream",
     "text": [
      ".: 0 audio files, 0 image files, 1 extra files\n",
      "TEST: 0 audio files, 0 image files, 1 extra files\n",
      "TEST/AFROHOUSE: 0 audio files, 500 image files, 0 extra files\n",
      "TEST/BIGROOM: 0 audio files, 500 image files, 0 extra files\n",
      "TEST/PSYTRANCE: 0 audio files, 500 image files, 0 extra files\n",
      "TEST/AMBIENT: 0 audio files, 500 image files, 0 extra files\n",
      "TEST/HARDSTYLE: 0 audio files, 500 image files, 0 extra files\n",
      "TEST/BASSHOUSE: 0 audio files, 500 image files, 0 extra files\n",
      "TEST/DRUMANDBASS: 0 audio files, 500 image files, 0 extra files\n",
      "TEST/PHONK: 0 audio files, 500 image files, 0 extra files\n",
      "TEST/BASSMUSIC: 0 audio files, 500 image files, 0 extra files\n",
      "TEST/DUBSTEP: 0 audio files, 500 image files, 0 extra files\n",
      "TRAIN: 0 audio files, 0 image files, 1 extra files\n",
      "TRAIN/AFROHOUSE: 0 audio files, 2000 image files, 0 extra files\n",
      "TRAIN/BIGROOM: 0 audio files, 2000 image files, 0 extra files\n",
      "TRAIN/PSYTRANCE: 0 audio files, 2000 image files, 0 extra files\n",
      "TRAIN/AMBIENT: 0 audio files, 2000 image files, 0 extra files\n",
      "TRAIN/HARDSTYLE: 0 audio files, 2000 image files, 0 extra files\n",
      "TRAIN/BASSHOUSE: 0 audio files, 2000 image files, 0 extra files\n",
      "TRAIN/DRUMANDBASS: 0 audio files, 2000 image files, 0 extra files\n",
      "TRAIN/PHONK: 0 audio files, 1999 image files, 0 extra files\n",
      "TRAIN/BASSMUSIC: 0 audio files, 2000 image files, 0 extra files\n",
      "TRAIN/DUBSTEP: 0 audio files, 2000 image files, 0 extra files\n",
      "Total audio files: 0\n",
      "Total image files: 24999\n",
      "Total extra files: 3\n"
     ]
    }
   ],
   "source": [
    "import os\n",
    "\n",
    "def count_files_in_subfolders(directory):\n",
    "    audio_extensions = ('.mp3', '.wav', '.flac', '.m4a', '.aac', '.ogg')\n",
    "    image_extensions = ('.jpg', '.jpeg', '.png', '.gif', '.bmp', '.tiff', '.svg')\n",
    "    subfolder_counts = {}\n",
    "\n",
    "    for root, dirs, files in os.walk(directory):\n",
    "        subfolder = os.path.relpath(root, directory)\n",
    "        audio_count = sum([1 for file in files if file.lower().endswith(audio_extensions)])\n",
    "        image_count = sum([1 for file in files if file.lower().endswith(image_extensions)])\n",
    "        extra_count = sum([1 for file in files if not file.lower().endswith(audio_extensions + image_extensions)])\n",
    "        \n",
    "        # Only add subfolders with at least one file in any category\n",
    "        if audio_count > 0 or image_count > 0 or extra_count > 0:\n",
    "            subfolder_counts[subfolder] = {\n",
    "                'audio_files': audio_count,\n",
    "                'image_files': image_count,\n",
    "                'extra_files': extra_count\n",
    "            }\n",
    "\n",
    "    return subfolder_counts\n",
    "\n",
    "# Example usage\n",
    "directory = '/Users/ashutosh/Documents/GitHub/edm-subgenre-classification/MelImages'  # Replace with your directory path\n",
    "files_count = count_files_in_subfolders(directory)\n",
    "\n",
    "# Print the count of audio, image, and extra files in each subfolder\n",
    "for subfolder, counts in files_count.items():\n",
    "    print(f\"{subfolder}: {counts['audio_files']} audio files, {counts['image_files']} image files, {counts['extra_files']} extra files\")\n",
    "\n",
    "# Print total counts\n",
    "total_audio_files = sum(counts['audio_files'] for counts in files_count.values())\n",
    "total_image_files = sum(counts['image_files'] for counts in files_count.values())\n",
    "total_extra_files = sum(counts['extra_files'] for counts in files_count.values())\n",
    "print(f\"Total audio files: {total_audio_files}\")\n",
    "print(f\"Total image files: {total_image_files}\")\n",
    "print(f\"Total extra files: {total_extra_files}\")"
   ]
  }
 ],
 "metadata": {
  "kernelspec": {
   "display_name": ".venv",
   "language": "python",
   "name": "python3"
  },
  "language_info": {
   "codemirror_mode": {
    "name": "ipython",
    "version": 3
   },
   "file_extension": ".py",
   "mimetype": "text/x-python",
   "name": "python",
   "nbconvert_exporter": "python",
   "pygments_lexer": "ipython3",
   "version": "3.12.6"
  }
 },
 "nbformat": 4,
 "nbformat_minor": 2
}
