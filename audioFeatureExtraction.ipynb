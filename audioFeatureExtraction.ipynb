{
 "cells": [
  {
   "cell_type": "code",
   "execution_count": 3,
   "id": "e9963796-75ac-445d-8fb8-ed34e60b0c70",
   "metadata": {},
   "outputs": [
    {
     "name": "stdout",
     "output_type": "stream",
     "text": [
      "Requirement already satisfied: numpy in /home/ashwathama/anaconda3/lib/python3.12/site-packages (1.26.4)\n",
      "Note: you may need to restart the kernel to use updated packages.\n"
     ]
    }
   ],
   "source": [
    "pip install numpy"
   ]
  },
  {
   "cell_type": "code",
   "execution_count": 4,
   "id": "950ef147-e7d0-4801-9506-9c5c51e0f699",
   "metadata": {},
   "outputs": [
    {
     "name": "stdout",
     "output_type": "stream",
     "text": [
      "audioFeatureExtraction.ipynb  \u001b[0m\u001b[01;34mpyAudioAnalysis-1\u001b[0m/\n"
     ]
    }
   ],
   "source": [
    "ls"
   ]
  },
  {
   "cell_type": "code",
   "execution_count": 5,
   "id": "1fcd47c9-7344-4af9-90d8-6e4bf85f84de",
   "metadata": {},
   "outputs": [
    {
     "data": {
      "text/plain": [
       "'/home/ashwathama/mr'"
      ]
     },
     "execution_count": 5,
     "metadata": {},
     "output_type": "execute_result"
    }
   ],
   "source": [
    "pwd"
   ]
  },
  {
   "cell_type": "code",
   "execution_count": 6,
   "id": "357fdd5f-5b99-4688-80ea-72b71fbd48dc",
   "metadata": {},
   "outputs": [
    {
     "name": "stdout",
     "output_type": "stream",
     "text": [
      "audioFeatureExtraction.ipynb  \u001b[0m\u001b[01;34mpyAudioAnalysis-1\u001b[0m/\n"
     ]
    }
   ],
   "source": [
    "ls\n"
   ]
  },
  {
   "cell_type": "code",
   "execution_count": null,
   "id": "3eea6e14-926d-466e-8e79-72871761c454",
   "metadata": {},
   "outputs": [],
   "source": []
  },
  {
   "cell_type": "code",
   "execution_count": 7,
   "id": "f1d60eb3-063e-4a85-b7cc-e14d85df3f65",
   "metadata": {},
   "outputs": [
    {
     "name": "stdout",
     "output_type": "stream",
     "text": [
      "Requirement already satisfied: numpy in /home/ashwathama/anaconda3/lib/python3.12/site-packages (1.26.4)\n",
      "Requirement already satisfied: matplotlib in /home/ashwathama/anaconda3/lib/python3.12/site-packages (3.8.4)\n",
      "Requirement already satisfied: scipy in /home/ashwathama/anaconda3/lib/python3.12/site-packages (1.13.1)\n",
      "Requirement already satisfied: scikit-learn in /home/ashwathama/anaconda3/lib/python3.12/site-packages (1.4.2)\n",
      "Requirement already satisfied: hmmlearn in /home/ashwathama/anaconda3/lib/python3.12/site-packages (0.3.2)\n",
      "Requirement already satisfied: simplejson in /home/ashwathama/anaconda3/lib/python3.12/site-packages (3.19.3)\n",
      "Requirement already satisfied: eyed3 in /home/ashwathama/anaconda3/lib/python3.12/site-packages (0.9.7)\n",
      "Requirement already satisfied: pydub in /home/ashwathama/anaconda3/lib/python3.12/site-packages (0.25.1)\n",
      "Requirement already satisfied: contourpy>=1.0.1 in /home/ashwathama/anaconda3/lib/python3.12/site-packages (from matplotlib) (1.2.0)\n",
      "Requirement already satisfied: cycler>=0.10 in /home/ashwathama/anaconda3/lib/python3.12/site-packages (from matplotlib) (0.11.0)\n",
      "Requirement already satisfied: fonttools>=4.22.0 in /home/ashwathama/anaconda3/lib/python3.12/site-packages (from matplotlib) (4.51.0)\n",
      "Requirement already satisfied: kiwisolver>=1.3.1 in /home/ashwathama/anaconda3/lib/python3.12/site-packages (from matplotlib) (1.4.4)\n",
      "Requirement already satisfied: packaging>=20.0 in /home/ashwathama/.local/lib/python3.12/site-packages (from matplotlib) (23.2)\n",
      "Requirement already satisfied: pillow>=8 in /home/ashwathama/anaconda3/lib/python3.12/site-packages (from matplotlib) (10.3.0)\n",
      "Requirement already satisfied: pyparsing>=2.3.1 in /home/ashwathama/anaconda3/lib/python3.12/site-packages (from matplotlib) (3.0.9)\n",
      "Requirement already satisfied: python-dateutil>=2.7 in /home/ashwathama/anaconda3/lib/python3.12/site-packages (from matplotlib) (2.9.0.post0)\n",
      "Requirement already satisfied: joblib>=1.2.0 in /home/ashwathama/anaconda3/lib/python3.12/site-packages (from scikit-learn) (1.4.2)\n",
      "Requirement already satisfied: threadpoolctl>=2.0.0 in /home/ashwathama/anaconda3/lib/python3.12/site-packages (from scikit-learn) (2.2.0)\n",
      "Requirement already satisfied: coverage<6.0.0,>=5.3.1 in /home/ashwathama/anaconda3/lib/python3.12/site-packages (from coverage[toml]<6.0.0,>=5.3.1->eyed3) (5.5)\n",
      "Requirement already satisfied: deprecation<3.0.0,>=2.1.0 in /home/ashwathama/anaconda3/lib/python3.12/site-packages (from eyed3) (2.1.0)\n",
      "Requirement already satisfied: filetype<2.0.0,>=1.0.7 in /home/ashwathama/anaconda3/lib/python3.12/site-packages (from eyed3) (1.2.0)\n",
      "Requirement already satisfied: toml in /home/ashwathama/anaconda3/lib/python3.12/site-packages (from coverage[toml]<6.0.0,>=5.3.1->eyed3) (0.10.2)\n",
      "Requirement already satisfied: six>=1.5 in /home/ashwathama/anaconda3/lib/python3.12/site-packages (from python-dateutil>=2.7->matplotlib) (1.16.0)\n",
      "Note: you may need to restart the kernel to use updated packages.\n"
     ]
    }
   ],
   "source": [
    "pip install numpy matplotlib scipy scikit-learn hmmlearn simplejson eyed3 pydub"
   ]
  },
  {
   "cell_type": "code",
   "execution_count": 8,
   "id": "b3048a7d-8595-4c9e-9c47-42b703fae6d9",
   "metadata": {},
   "outputs": [
    {
     "name": "stdout",
     "output_type": "stream",
     "text": [
      "Requirement already satisfied: pyAudioAnalysis in /home/ashwathama/pyAudioAnalysis (0.3.14)\n",
      "Requirement already satisfied: matplotlib>=3.4.2 in /home/ashwathama/anaconda3/lib/python3.12/site-packages (from pyAudioAnalysis) (3.8.4)\n",
      "Requirement already satisfied: simplejson>=3.16.0 in /home/ashwathama/anaconda3/lib/python3.12/site-packages (from pyAudioAnalysis) (3.19.3)\n",
      "Requirement already satisfied: scipy>=1.6.3 in /home/ashwathama/anaconda3/lib/python3.12/site-packages (from pyAudioAnalysis) (1.13.1)\n",
      "Requirement already satisfied: numpy>=1.20.3 in /home/ashwathama/anaconda3/lib/python3.12/site-packages (from pyAudioAnalysis) (1.26.4)\n",
      "Requirement already satisfied: hmmlearn>=0.2.5 in /home/ashwathama/anaconda3/lib/python3.12/site-packages (from pyAudioAnalysis) (0.3.2)\n",
      "Requirement already satisfied: eyeD3>=0.9.6 in /home/ashwathama/anaconda3/lib/python3.12/site-packages (from pyAudioAnalysis) (0.9.7)\n",
      "Requirement already satisfied: pydub>=0.25.1 in /home/ashwathama/anaconda3/lib/python3.12/site-packages (from pyAudioAnalysis) (0.25.1)\n",
      "Requirement already satisfied: scikit_learn>=0.24.2 in /home/ashwathama/anaconda3/lib/python3.12/site-packages (from pyAudioAnalysis) (1.4.2)\n",
      "Requirement already satisfied: tqdm>=4.52.0 in /home/ashwathama/anaconda3/lib/python3.12/site-packages (from pyAudioAnalysis) (4.66.4)\n",
      "Requirement already satisfied: plotly>=5.3.1 in /home/ashwathama/anaconda3/lib/python3.12/site-packages (from pyAudioAnalysis) (5.22.0)\n",
      "Requirement already satisfied: pandas>=1.2.4 in /home/ashwathama/anaconda3/lib/python3.12/site-packages (from pyAudioAnalysis) (2.2.2)\n",
      "Requirement already satisfied: imblearn in /home/ashwathama/anaconda3/lib/python3.12/site-packages (from pyAudioAnalysis) (0.0)\n",
      "Requirement already satisfied: coverage<6.0.0,>=5.3.1 in /home/ashwathama/anaconda3/lib/python3.12/site-packages (from coverage[toml]<6.0.0,>=5.3.1->eyeD3>=0.9.6->pyAudioAnalysis) (5.5)\n",
      "Requirement already satisfied: deprecation<3.0.0,>=2.1.0 in /home/ashwathama/anaconda3/lib/python3.12/site-packages (from eyeD3>=0.9.6->pyAudioAnalysis) (2.1.0)\n",
      "Requirement already satisfied: filetype<2.0.0,>=1.0.7 in /home/ashwathama/anaconda3/lib/python3.12/site-packages (from eyeD3>=0.9.6->pyAudioAnalysis) (1.2.0)\n",
      "Requirement already satisfied: contourpy>=1.0.1 in /home/ashwathama/anaconda3/lib/python3.12/site-packages (from matplotlib>=3.4.2->pyAudioAnalysis) (1.2.0)\n",
      "Requirement already satisfied: cycler>=0.10 in /home/ashwathama/anaconda3/lib/python3.12/site-packages (from matplotlib>=3.4.2->pyAudioAnalysis) (0.11.0)\n",
      "Requirement already satisfied: fonttools>=4.22.0 in /home/ashwathama/anaconda3/lib/python3.12/site-packages (from matplotlib>=3.4.2->pyAudioAnalysis) (4.51.0)\n",
      "Requirement already satisfied: kiwisolver>=1.3.1 in /home/ashwathama/anaconda3/lib/python3.12/site-packages (from matplotlib>=3.4.2->pyAudioAnalysis) (1.4.4)\n",
      "Requirement already satisfied: packaging>=20.0 in /home/ashwathama/.local/lib/python3.12/site-packages (from matplotlib>=3.4.2->pyAudioAnalysis) (23.2)\n",
      "Requirement already satisfied: pillow>=8 in /home/ashwathama/anaconda3/lib/python3.12/site-packages (from matplotlib>=3.4.2->pyAudioAnalysis) (10.3.0)\n",
      "Requirement already satisfied: pyparsing>=2.3.1 in /home/ashwathama/anaconda3/lib/python3.12/site-packages (from matplotlib>=3.4.2->pyAudioAnalysis) (3.0.9)\n",
      "Requirement already satisfied: python-dateutil>=2.7 in /home/ashwathama/anaconda3/lib/python3.12/site-packages (from matplotlib>=3.4.2->pyAudioAnalysis) (2.9.0.post0)\n",
      "Requirement already satisfied: pytz>=2020.1 in /home/ashwathama/anaconda3/lib/python3.12/site-packages (from pandas>=1.2.4->pyAudioAnalysis) (2024.1)\n",
      "Requirement already satisfied: tzdata>=2022.7 in /home/ashwathama/anaconda3/lib/python3.12/site-packages (from pandas>=1.2.4->pyAudioAnalysis) (2023.3)\n",
      "Requirement already satisfied: tenacity>=6.2.0 in /home/ashwathama/anaconda3/lib/python3.12/site-packages (from plotly>=5.3.1->pyAudioAnalysis) (8.2.2)\n",
      "Requirement already satisfied: joblib>=1.2.0 in /home/ashwathama/anaconda3/lib/python3.12/site-packages (from scikit_learn>=0.24.2->pyAudioAnalysis) (1.4.2)\n",
      "Requirement already satisfied: threadpoolctl>=2.0.0 in /home/ashwathama/anaconda3/lib/python3.12/site-packages (from scikit_learn>=0.24.2->pyAudioAnalysis) (2.2.0)\n",
      "Requirement already satisfied: imbalanced-learn in /home/ashwathama/anaconda3/lib/python3.12/site-packages (from imblearn->pyAudioAnalysis) (0.12.3)\n",
      "Requirement already satisfied: toml in /home/ashwathama/anaconda3/lib/python3.12/site-packages (from coverage[toml]<6.0.0,>=5.3.1->eyeD3>=0.9.6->pyAudioAnalysis) (0.10.2)\n",
      "Requirement already satisfied: six>=1.5 in /home/ashwathama/anaconda3/lib/python3.12/site-packages (from python-dateutil>=2.7->matplotlib>=3.4.2->pyAudioAnalysis) (1.16.0)\n"
     ]
    }
   ],
   "source": [
    "!pip install pyAudioAnalysis\n",
    "\n"
   ]
  },
  {
   "cell_type": "code",
   "execution_count": 9,
   "id": "ad88ad5c-61ce-4064-8e54-ea39c2d9418f",
   "metadata": {},
   "outputs": [],
   "source": [
    "from pyAudioAnalysis import audioTrainTest as aT\n",
    "# aT.featureAndTrain([\"classifierData/music\",\"classifierData/speech\"], 1.0, 1.0, aT.shortTermWindow, aT.shortTermStep, \"svm\", \"svmSMtemp\", False)\n",
    "# aT.fileClassification(\"bangarang.mp3\", \"svmSMtemp\",\"svm\")"
   ]
  },
  {
   "cell_type": "code",
   "execution_count": 10,
   "id": "030db830-3118-46ca-8a45-164bc2903889",
   "metadata": {},
   "outputs": [],
   "source": [
    "import os\n",
    "audio_file_path = \"/home/ashwathama/mr/pyAudioAnalysis-1/pyAudioAnalysis/bangarang.mp3\"\n",
    "if not os.path.exists(audio_file_path):\n",
    "    raise FileNotFoundError(f\"Audio file not found at {audio_file_path}\")"
   ]
  },
  {
   "cell_type": "code",
   "execution_count": 11,
   "id": "0d35229a-e162-4622-ab73-c21746e63d89",
   "metadata": {},
   "outputs": [],
   "source": [
    "from pyAudioAnalysis import audioBasicIO\n",
    "from pyAudioAnalysis import ShortTermFeatures\n",
    "\n",
    "[Fs, x] = audioBasicIO.read_audio_file(audio_file_path) #\n",
    "if x.size == 0:\n",
    "    raise ValueError(\"Loaded audio data is empty.\")"
   ]
  },
  {
   "cell_type": "code",
   "execution_count": 12,
   "id": "eab3e9a1-93ee-47ad-82a6-ab0dfe7d0e10",
   "metadata": {},
   "outputs": [
    {
     "name": "stdout",
     "output_type": "stream",
     "text": [
      "['zcr', 'energy', 'energy_entropy', 'spectral_centroid', 'spectral_spread', 'spectral_entropy', 'spectral_flux', 'spectral_rolloff', 'mfcc_1', 'mfcc_2', 'mfcc_3', 'mfcc_4', 'mfcc_5', 'mfcc_6', 'mfcc_7', 'mfcc_8', 'mfcc_9', 'mfcc_10', 'mfcc_11', 'mfcc_12', 'mfcc_13', 'chroma_1', 'chroma_2', 'chroma_3', 'chroma_4', 'chroma_5', 'chroma_6', 'chroma_7', 'chroma_8', 'chroma_9', 'chroma_10', 'chroma_11', 'chroma_12', 'chroma_std', 'delta zcr', 'delta energy', 'delta energy_entropy', 'delta spectral_centroid', 'delta spectral_spread', 'delta spectral_entropy', 'delta spectral_flux', 'delta spectral_rolloff', 'delta mfcc_1', 'delta mfcc_2', 'delta mfcc_3', 'delta mfcc_4', 'delta mfcc_5', 'delta mfcc_6', 'delta mfcc_7', 'delta mfcc_8', 'delta mfcc_9', 'delta mfcc_10', 'delta mfcc_11', 'delta mfcc_12', 'delta mfcc_13', 'delta chroma_1', 'delta chroma_2', 'delta chroma_3', 'delta chroma_4', 'delta chroma_5', 'delta chroma_6', 'delta chroma_7', 'delta chroma_8', 'delta chroma_9', 'delta chroma_10', 'delta chroma_11', 'delta chroma_12', 'delta chroma_std']\n",
      "[[0.00000000e+00 0.00000000e+00 0.00000000e+00 ... 0.00000000e+00\n",
      "  0.00000000e+00 0.00000000e+00]\n",
      " [1.28217367e-11 1.28217367e-11 1.28217367e-11 ... 1.28217367e-11\n",
      "  1.28217367e-11 1.28217367e-11]\n",
      " [3.31766307e+00 3.31766307e+00 3.31766307e+00 ... 3.31766307e+00\n",
      "  3.31766307e+00 3.31766307e+00]\n",
      " ...\n",
      " [0.00000000e+00 0.00000000e+00 0.00000000e+00 ... 0.00000000e+00\n",
      "  0.00000000e+00 0.00000000e+00]\n",
      " [0.00000000e+00 0.00000000e+00 0.00000000e+00 ... 0.00000000e+00\n",
      "  0.00000000e+00 0.00000000e+00]\n",
      " [0.00000000e+00 0.00000000e+00 0.00000000e+00 ... 0.00000000e+00\n",
      "  0.00000000e+00 0.00000000e+00]]\n"
     ]
    }
   ],
   "source": [
    "from pyAudioAnalysis import audioBasicIO, ShortTermFeatures\n",
    "audio_file_path = \"/home/ashwathama/mr/pyAudioAnalysis-1/pyAudioAnalysis/bangarang.mp3\"\n",
    "\n",
    "if not os.path.exists(audio_file_path):\n",
    "    raise FileNotFoundError(f\"Audio file not found at {audio_file_path}\")\n",
    "\n",
    "[Fs, x] = audioBasicIO.read_audio_file(audio_file_path)\n",
    "if x.size == 0:\n",
    "    raise ValueError(\"Loaded audio data is empty.\")\n",
    "\n",
    "x = audioBasicIO.stereo_to_mono(x) \n",
    "F, f_name = ShortTermFeatures.feature_extraction(x, Fs, 0.050*Fs, 0.025*Fs)\n",
    "print(f_name)\n",
    "print(F)"
   ]
  },
  {
   "cell_type": "code",
   "execution_count": 1,
   "id": "8cf7b95a-4f97-4835-8825-7b9abcea8f13",
   "metadata": {},
   "outputs": [
    {
     "ename": "NameError",
     "evalue": "name 'f_name' is not defined",
     "output_type": "error",
     "traceback": [
      "\u001b[0;31m---------------------------------------------------------------------------\u001b[0m",
      "\u001b[0;31mNameError\u001b[0m                                 Traceback (most recent call last)",
      "Cell \u001b[0;32mIn[1], line 1\u001b[0m\n\u001b[0;32m----> 1\u001b[0m feature_means \u001b[38;5;241m=\u001b[39m {name: F[i, :]\u001b[38;5;241m.\u001b[39mmean() \u001b[38;5;28;01mfor\u001b[39;00m i, name \u001b[38;5;129;01min\u001b[39;00m \u001b[38;5;28menumerate\u001b[39m(f_name)}\n\u001b[1;32m      2\u001b[0m \u001b[38;5;66;03m# feature_means = {name: mean for name, mean in zip(f_name, F)}\u001b[39;00m\n\u001b[1;32m      3\u001b[0m \u001b[38;5;28;01mfor\u001b[39;00m name, mean \u001b[38;5;129;01min\u001b[39;00m feature_means\u001b[38;5;241m.\u001b[39mitems():\n",
      "\u001b[0;31mNameError\u001b[0m: name 'f_name' is not defined"
     ]
    }
   ],
   "source": [
    "\n",
    "feature_means = {name: F[i, :].mean() for i, name in enumerate(f_name)}\n",
    "# feature_means = {name: mean for name, mean in zip(f_name, F)}\n",
    "for name, mean in feature_means.items():\n",
    "    print(f\"{name}: {mean}\")"
   ]
  },
  {
   "cell_type": "code",
   "execution_count": 14,
   "id": "01682640-073d-4dda-bc27-b2f9b7250578",
   "metadata": {},
   "outputs": [
    {
     "name": "stdout",
     "output_type": "stream",
     "text": [
      "Estimated BPM: 30.0\n"
     ]
    }
   ],
   "source": [
    "from pyAudioAnalysis import MidTermFeatures\n",
    "BPM, _ = MidTermFeatures.beat_extraction(F, 0.5)\n",
    "print(f\"Estimated BPM: {BPM}\")\n"
   ]
  },
  {
   "cell_type": "code",
   "execution_count": 15,
   "id": "21ce6d33-9808-4d4b-ad3b-3dac6763abf6",
   "metadata": {},
   "outputs": [
    {
     "name": "stdout",
     "output_type": "stream",
     "text": [
      "Requirement already satisfied: librosa in /home/ashwathama/anaconda3/lib/python3.12/site-packages (0.10.2.post1)\n",
      "Requirement already satisfied: audioread>=2.1.9 in /home/ashwathama/anaconda3/lib/python3.12/site-packages (from librosa) (3.0.1)\n",
      "Requirement already satisfied: numpy!=1.22.0,!=1.22.1,!=1.22.2,>=1.20.3 in /home/ashwathama/anaconda3/lib/python3.12/site-packages (from librosa) (1.26.4)\n",
      "Requirement already satisfied: scipy>=1.2.0 in /home/ashwathama/anaconda3/lib/python3.12/site-packages (from librosa) (1.13.1)\n",
      "Requirement already satisfied: scikit-learn>=0.20.0 in /home/ashwathama/anaconda3/lib/python3.12/site-packages (from librosa) (1.4.2)\n",
      "Requirement already satisfied: joblib>=0.14 in /home/ashwathama/anaconda3/lib/python3.12/site-packages (from librosa) (1.4.2)\n",
      "Requirement already satisfied: decorator>=4.3.0 in /home/ashwathama/anaconda3/lib/python3.12/site-packages (from librosa) (5.1.1)\n",
      "Requirement already satisfied: numba>=0.51.0 in /home/ashwathama/anaconda3/lib/python3.12/site-packages (from librosa) (0.59.1)\n",
      "Requirement already satisfied: soundfile>=0.12.1 in /home/ashwathama/anaconda3/lib/python3.12/site-packages (from librosa) (0.12.1)\n",
      "Requirement already satisfied: pooch>=1.1 in /home/ashwathama/anaconda3/lib/python3.12/site-packages (from librosa) (1.8.2)\n",
      "Requirement already satisfied: soxr>=0.3.2 in /home/ashwathama/anaconda3/lib/python3.12/site-packages (from librosa) (0.4.0)\n",
      "Requirement already satisfied: typing-extensions>=4.1.1 in /home/ashwathama/anaconda3/lib/python3.12/site-packages (from librosa) (4.11.0)\n",
      "Requirement already satisfied: lazy-loader>=0.1 in /home/ashwathama/anaconda3/lib/python3.12/site-packages (from librosa) (0.4)\n",
      "Requirement already satisfied: msgpack>=1.0 in /home/ashwathama/anaconda3/lib/python3.12/site-packages (from librosa) (1.0.3)\n",
      "Requirement already satisfied: packaging in /home/ashwathama/.local/lib/python3.12/site-packages (from lazy-loader>=0.1->librosa) (23.2)\n",
      "Requirement already satisfied: llvmlite<0.43,>=0.42.0dev0 in /home/ashwathama/anaconda3/lib/python3.12/site-packages (from numba>=0.51.0->librosa) (0.42.0)\n",
      "Requirement already satisfied: platformdirs>=2.5.0 in /home/ashwathama/anaconda3/lib/python3.12/site-packages (from pooch>=1.1->librosa) (3.10.0)\n",
      "Requirement already satisfied: requests>=2.19.0 in /home/ashwathama/anaconda3/lib/python3.12/site-packages (from pooch>=1.1->librosa) (2.32.2)\n",
      "Requirement already satisfied: threadpoolctl>=2.0.0 in /home/ashwathama/anaconda3/lib/python3.12/site-packages (from scikit-learn>=0.20.0->librosa) (2.2.0)\n",
      "Requirement already satisfied: cffi>=1.0 in /home/ashwathama/anaconda3/lib/python3.12/site-packages (from soundfile>=0.12.1->librosa) (1.16.0)\n",
      "Requirement already satisfied: pycparser in /home/ashwathama/anaconda3/lib/python3.12/site-packages (from cffi>=1.0->soundfile>=0.12.1->librosa) (2.21)\n",
      "Requirement already satisfied: charset-normalizer<4,>=2 in /home/ashwathama/anaconda3/lib/python3.12/site-packages (from requests>=2.19.0->pooch>=1.1->librosa) (2.0.4)\n",
      "Requirement already satisfied: idna<4,>=2.5 in /home/ashwathama/anaconda3/lib/python3.12/site-packages (from requests>=2.19.0->pooch>=1.1->librosa) (3.7)\n",
      "Requirement already satisfied: urllib3<3,>=1.21.1 in /home/ashwathama/anaconda3/lib/python3.12/site-packages (from requests>=2.19.0->pooch>=1.1->librosa) (2.2.2)\n",
      "Requirement already satisfied: certifi>=2017.4.17 in /home/ashwathama/anaconda3/lib/python3.12/site-packages (from requests>=2.19.0->pooch>=1.1->librosa) (2024.7.4)\n",
      "Note: you may need to restart the kernel to use updated packages.\n"
     ]
    }
   ],
   "source": [
    "pip install librosa"
   ]
  },
  {
   "cell_type": "code",
   "execution_count": 16,
   "id": "20c059f5-b952-4e4c-ba76-d28280165606",
   "metadata": {},
   "outputs": [
    {
     "name": "stdout",
     "output_type": "stream",
     "text": [
      "Estimated BPM: [143.5546875]\n"
     ]
    },
    {
     "data": {
      "image/png": "[encoded data removed]",
      "text/plain": [
       "<Figure size 1400x500 with 1 Axes>"
      ]
     },
     "metadata": {},
     "output_type": "display_data"
    }
   ],
   "source": [
    "import matplotlib.pyplot as plt\n",
    "import librosa\n",
    "\n",
    "y, sr = librosa.load(audio_file_path, duration=60)\n",
    "\n",
    "# Estimate the tempo (BPM)\n",
    "tempo, _ = librosa.beat.beat_track(y=y, sr=sr)\n",
    "print(f\"Estimated BPM: {tempo}\")\n",
    "\n",
    "\n",
    "# Plot the waveform\n",
    "plt.figure(figsize=(14, 5))\n",
    "librosa.display.waveshow(y, sr=sr)\n",
    "\n",
    "# Plot the detected beats\n",
    "tempo, beats = librosa.beat.beat_track(y=y, sr=sr)\n",
    "beat_times = librosa.frames_to_time(beats, sr=sr)\n",
    "plt.vlines(beat_times, -1, 1, color='r', alpha=0.9, linestyle='--', label='Beats')\n",
    "plt.legend()\n",
    "plt.show()"
   ]
  },
  {
   "cell_type": "code",
   "execution_count": 17,
   "id": "96b59f7e",
   "metadata": {},
   "outputs": [
    {
     "name": "stdout",
     "output_type": "stream",
     "text": [
      "Requirement already satisfied: madmom in /home/ashwathama/.local/lib/python3.12/site-packages (0.16.1)\n",
      "Requirement already satisfied: numpy>=1.13.4 in /home/ashwathama/anaconda3/lib/python3.12/site-packages (from madmom) (1.26.4)\n",
      "Requirement already satisfied: scipy>=0.16 in /home/ashwathama/anaconda3/lib/python3.12/site-packages (from madmom) (1.13.1)\n",
      "Requirement already satisfied: cython>=0.25 in /home/ashwathama/.local/lib/python3.12/site-packages (from madmom) (3.0.11)\n",
      "Requirement already satisfied: mido>=1.2.8 in /home/ashwathama/.local/lib/python3.12/site-packages (from madmom) (1.3.2)\n",
      "Requirement already satisfied: packaging~=23.1 in /home/ashwathama/.local/lib/python3.12/site-packages (from mido>=1.2.8->madmom) (23.2)\n"
     ]
    }
   ],
   "source": [
    "# !pip install cython\n",
    "!pip install madmom\n"
   ]
  },
  {
   "cell_type": "code",
   "execution_count": 18,
   "id": "0d933ed1",
   "metadata": {},
   "outputs": [
    {
     "name": "stdout",
     "output_type": "stream",
     "text": [
      "Requirement already satisfied: madmom in /home/ashwathama/.local/lib/python3.12/site-packages (0.16.1)\n",
      "Requirement already satisfied: numpy>=1.13.4 in /home/ashwathama/anaconda3/lib/python3.12/site-packages (from madmom) (1.26.4)\n",
      "Requirement already satisfied: scipy>=0.16 in /home/ashwathama/anaconda3/lib/python3.12/site-packages (from madmom) (1.13.1)\n",
      "Requirement already satisfied: cython>=0.25 in /home/ashwathama/.local/lib/python3.12/site-packages (from madmom) (3.0.11)\n",
      "Requirement already satisfied: mido>=1.2.8 in /home/ashwathama/.local/lib/python3.12/site-packages (from madmom) (1.3.2)\n",
      "Requirement already satisfied: packaging~=23.1 in /home/ashwathama/.local/lib/python3.12/site-packages (from mido>=1.2.8->madmom) (23.2)\n"
     ]
    }
   ],
   "source": [
    "!pip install --upgrade madmom"
   ]
  },
  {
   "cell_type": "code",
   "execution_count": 19,
   "id": "44dfd70e",
   "metadata": {},
   "outputs": [
    {
     "name": "stdout",
     "output_type": "stream",
     "text": [
      "Requirement already satisfied: six in /home/ashwathama/anaconda3/lib/python3.12/site-packages (1.16.0)\n"
     ]
    }
   ],
   "source": [
    "!pip install six"
   ]
  },
  {
   "cell_type": "code",
   "execution_count": null,
   "id": "d390a8e1",
   "metadata": {},
   "outputs": [
    {
     "name": "stdout",
     "output_type": "stream",
     "text": [
      "The estimated BPM is: [112.34714674]\n"
     ]
    }
   ],
   "source": [
    "import librosa\n",
    "\n",
    "def get_bpm_librosa(audio_file_path):\n",
    "    y, sr = librosa.load(audio_file_path)\n",
    "    onset_env = librosa.onset.onset_strength(y=y, sr=sr)\n",
    "    tempo, _ = librosa.beat.beat_track(onset_envelope=onset_env, sr=sr)\n",
    "    return tempo\n",
    "\n",
    "# Example usage\n",
    "audio_file_path = '/home/ashwathama/mr/pyAudioAnalysis-1/pyAudioAnalysis/bangarang.mp3'\n",
    "bpm = get_bpm_librosa(audio_file_path)\n",
    "print(f'The estimated BPM is: {bpm}')\n"
   ]
  },
  {
   "cell_type": "code",
   "execution_count": null,
   "id": "ce2aab16",
   "metadata": {},
   "outputs": [
    {
     "name": "stdout",
     "output_type": "stream",
     "text": [
      "Requirement already satisfied: pyaudioanalysis in /home/ashwathama/pyAudioAnalysis (0.3.14)\n",
      "Requirement already satisfied: matplotlib>=3.4.2 in /home/ashwathama/anaconda3/lib/python3.12/site-packages (from pyaudioanalysis) (3.8.4)\n",
      "Requirement already satisfied: simplejson>=3.16.0 in /home/ashwathama/anaconda3/lib/python3.12/site-packages (from pyaudioanalysis) (3.19.3)\n",
      "Requirement already satisfied: scipy>=1.6.3 in /home/ashwathama/anaconda3/lib/python3.12/site-packages (from pyaudioanalysis) (1.13.1)\n",
      "Requirement already satisfied: numpy>=1.20.3 in /home/ashwathama/anaconda3/lib/python3.12/site-packages (from pyaudioanalysis) (1.26.4)\n",
      "Requirement already satisfied: hmmlearn>=0.2.5 in /home/ashwathama/anaconda3/lib/python3.12/site-packages (from pyaudioanalysis) (0.3.2)\n",
      "Requirement already satisfied: eyeD3>=0.9.6 in /home/ashwathama/anaconda3/lib/python3.12/site-packages (from pyaudioanalysis) (0.9.7)\n",
      "Requirement already satisfied: pydub>=0.25.1 in /home/ashwathama/anaconda3/lib/python3.12/site-packages (from pyaudioanalysis) (0.25.1)\n",
      "Requirement already satisfied: scikit_learn>=0.24.2 in /home/ashwathama/anaconda3/lib/python3.12/site-packages (from pyaudioanalysis) (1.4.2)\n",
      "Requirement already satisfied: tqdm>=4.52.0 in /home/ashwathama/anaconda3/lib/python3.12/site-packages (from pyaudioanalysis) (4.66.4)\n",
      "Requirement already satisfied: plotly>=5.3.1 in /home/ashwathama/anaconda3/lib/python3.12/site-packages (from pyaudioanalysis) (5.22.0)\n",
      "Requirement already satisfied: pandas>=1.2.4 in /home/ashwathama/anaconda3/lib/python3.12/site-packages (from pyaudioanalysis) (2.2.2)\n",
      "Requirement already satisfied: imblearn in /home/ashwathama/anaconda3/lib/python3.12/site-packages (from pyaudioanalysis) (0.0)\n",
      "Requirement already satisfied: coverage<6.0.0,>=5.3.1 in /home/ashwathama/anaconda3/lib/python3.12/site-packages (from coverage[toml]<6.0.0,>=5.3.1->eyeD3>=0.9.6->pyaudioanalysis) (5.5)\n",
      "Requirement already satisfied: deprecation<3.0.0,>=2.1.0 in /home/ashwathama/anaconda3/lib/python3.12/site-packages (from eyeD3>=0.9.6->pyaudioanalysis) (2.1.0)\n",
      "Requirement already satisfied: filetype<2.0.0,>=1.0.7 in /home/ashwathama/anaconda3/lib/python3.12/site-packages (from eyeD3>=0.9.6->pyaudioanalysis) (1.2.0)\n",
      "Requirement already satisfied: contourpy>=1.0.1 in /home/ashwathama/anaconda3/lib/python3.12/site-packages (from matplotlib>=3.4.2->pyaudioanalysis) (1.2.0)\n",
      "Requirement already satisfied: cycler>=0.10 in /home/ashwathama/anaconda3/lib/python3.12/site-packages (from matplotlib>=3.4.2->pyaudioanalysis) (0.11.0)\n",
      "Requirement already satisfied: fonttools>=4.22.0 in /home/ashwathama/anaconda3/lib/python3.12/site-packages (from matplotlib>=3.4.2->pyaudioanalysis) (4.51.0)\n",
      "Requirement already satisfied: kiwisolver>=1.3.1 in /home/ashwathama/anaconda3/lib/python3.12/site-packages (from matplotlib>=3.4.2->pyaudioanalysis) (1.4.4)\n",
      "Requirement already satisfied: packaging>=20.0 in /home/ashwathama/.local/lib/python3.12/site-packages (from matplotlib>=3.4.2->pyaudioanalysis) (23.2)\n",
      "Requirement already satisfied: pillow>=8 in /home/ashwathama/anaconda3/lib/python3.12/site-packages (from matplotlib>=3.4.2->pyaudioanalysis) (10.3.0)\n",
      "Requirement already satisfied: pyparsing>=2.3.1 in /home/ashwathama/anaconda3/lib/python3.12/site-packages (from matplotlib>=3.4.2->pyaudioanalysis) (3.0.9)\n",
      "Requirement already satisfied: python-dateutil>=2.7 in /home/ashwathama/anaconda3/lib/python3.12/site-packages (from matplotlib>=3.4.2->pyaudioanalysis) (2.9.0.post0)\n",
      "Requirement already satisfied: pytz>=2020.1 in /home/ashwathama/anaconda3/lib/python3.12/site-packages (from pandas>=1.2.4->pyaudioanalysis) (2024.1)\n",
      "Requirement already satisfied: tzdata>=2022.7 in /home/ashwathama/anaconda3/lib/python3.12/site-packages (from pandas>=1.2.4->pyaudioanalysis) (2023.3)\n",
      "Requirement already satisfied: tenacity>=6.2.0 in /home/ashwathama/anaconda3/lib/python3.12/site-packages (from plotly>=5.3.1->pyaudioanalysis) (8.2.2)\n",
      "Requirement already satisfied: joblib>=1.2.0 in /home/ashwathama/anaconda3/lib/python3.12/site-packages (from scikit_learn>=0.24.2->pyaudioanalysis) (1.4.2)\n",
      "Requirement already satisfied: threadpoolctl>=2.0.0 in /home/ashwathama/anaconda3/lib/python3.12/site-packages (from scikit_learn>=0.24.2->pyaudioanalysis) (2.2.0)\n",
      "Requirement already satisfied: imbalanced-learn in /home/ashwathama/anaconda3/lib/python3.12/site-packages (from imblearn->pyaudioanalysis) (0.12.3)\n",
      "Requirement already satisfied: toml in /home/ashwathama/anaconda3/lib/python3.12/site-packages (from coverage[toml]<6.0.0,>=5.3.1->eyeD3>=0.9.6->pyaudioanalysis) (0.10.2)\n",
      "Requirement already satisfied: six>=1.5 in /home/ashwathama/anaconda3/lib/python3.12/site-packages (from python-dateutil>=2.7->matplotlib>=3.4.2->pyaudioanalysis) (1.16.0)\n",
      "Note: you may need to restart the kernel to use updated packages.\n"
     ]
    }
   ],
   "source": [
    "pip install pyaudioanalysis"
   ]
  },
  {
   "cell_type": "code",
   "execution_count": 25,
   "id": "628676a3",
   "metadata": {},
   "outputs": [
    {
     "data": {
      "text/plain": [
       "<_io.BufferedRandom name='/home/ashwathama/Desktop/bangarang.wav'>"
      ]
     },
     "execution_count": 25,
     "metadata": {},
     "output_type": "execute_result"
    }
   ],
   "source": [
    "from pydub import AudioSegment\n",
    "\n",
    "# Load MP3 file\n",
    "audio = AudioSegment.from_mp3(\"/home/ashwathama/mr/pyAudioAnalysis-1/pyAudioAnalysis/bangarang.mp3\")\n",
    "\n",
    "# Export as WAV file\n",
    "audio.export(\"/home/ashwathama/Desktop/bangarang.wav\", format=\"wav\")"
   ]
  },
  {
   "cell_type": "code",
   "execution_count": 27,
   "id": "a05f750b",
   "metadata": {},
   "outputs": [
    {
     "name": "stdout",
     "output_type": "stream",
     "text": [
      "The estimated BPM is: 111.07464599609375\n"
     ]
    }
   ],
   "source": [
    "import aubio\n",
    "import os\n",
    "\n",
    "def get_bpm_aubio(audio_file_path):\n",
    "    # Ensure the file path is correct and file exists\n",
    "    if not os.path.isfile(audio_file_path):\n",
    "        raise FileNotFoundError(f\"File not found: {audio_file_path}\")\n",
    "\n",
    "    # Parameters for Aubio\n",
    "    win_s = 512          # Window size for tempo detection\n",
    "    hop_s = win_s // 2   # Hop size (overlap size)\n",
    "    samplerate = 0       # Use 0 to let Aubio determine the samplerate\n",
    "\n",
    "    # Create a tempo detection object\n",
    "    tempo = aubio.tempo(\"default\", win_s, hop_s, samplerate)\n",
    "    \n",
    "    # Load the WAV file\n",
    "    source = aubio.source(audio_file_path, samplerate, hop_s)\n",
    "\n",
    "    # Initialize variables for BPM calculation\n",
    "    bpm = 0\n",
    "    total_frames = 0\n",
    "    beat_count = 0  # Counter for beats\n",
    "    \n",
    "    # Process the audio file\n",
    "    while True:\n",
    "        samples, read = source()\n",
    "        is_beat = tempo(samples)\n",
    "        if is_beat:\n",
    "            beat_count += 1\n",
    "            bpm = tempo.get_bpm()\n",
    "        total_frames += read\n",
    "        if read < hop_s:\n",
    "            break\n",
    "\n",
    "    return bpm if beat_count > 0 else \"No beats detected\"\n",
    "\n",
    "# Example usage\n",
    "audio_file_path = '/home/ashwathama/Desktop/bangarang.wav'  # Ensure this path is correct\n",
    "try:\n",
    "    bpm = get_bpm_aubio(audio_file_path)\n",
    "    print(f'The estimated BPM is: {bpm}')\n",
    "except Exception as e:\n",
    "    print(f\"An error occurred: {e}\")"
   ]
  },
  {
   "cell_type": "markdown",
   "id": "1d621b87",
   "metadata": {},
   "source": [
    "somewhat close to the actual bpm"
   ]
  },
  {
   "cell_type": "code",
   "execution_count": 1,
   "id": "0439a8e9",
   "metadata": {},
   "outputs": [
    {
     "name": "stdout",
     "output_type": "stream",
     "text": [
      "Collecting google-auth\n",
      "  Downloading google_auth-2.34.0-py2.py3-none-any.whl.metadata (4.7 kB)\n",
      "Collecting google-auth-oauthlib\n",
      "  Downloading google_auth_oauthlib-1.2.1-py2.py3-none-any.whl.metadata (2.7 kB)\n",
      "Collecting google-auth-httplib2\n",
      "  Downloading google_auth_httplib2-0.2.0-py2.py3-none-any.whl.metadata (2.2 kB)\n",
      "Collecting google-api-python-client\n",
      "  Downloading google_api_python_client-2.143.0-py2.py3-none-any.whl.metadata (6.7 kB)\n",
      "Requirement already satisfied: cachetools<6.0,>=2.0.0 in /home/ashwathama/anaconda3/lib/python3.12/site-packages (from google-auth) (5.3.3)\n",
      "Requirement already satisfied: pyasn1-modules>=0.2.1 in /home/ashwathama/anaconda3/lib/python3.12/site-packages (from google-auth) (0.2.8)\n",
      "Collecting rsa<5,>=3.1.4 (from google-auth)\n",
      "  Downloading rsa-4.9-py3-none-any.whl.metadata (4.2 kB)\n",
      "Collecting requests-oauthlib>=0.7.0 (from google-auth-oauthlib)\n",
      "  Downloading requests_oauthlib-2.0.0-py2.py3-none-any.whl.metadata (11 kB)\n",
      "Collecting httplib2>=0.19.0 (from google-auth-httplib2)\n",
      "  Downloading httplib2-0.22.0-py3-none-any.whl.metadata (2.6 kB)\n",
      "Collecting google-api-core!=2.0.*,!=2.1.*,!=2.2.*,!=2.3.0,<3.0.0.dev0,>=1.31.5 (from google-api-python-client)\n",
      "  Downloading google_api_core-2.19.2-py3-none-any.whl.metadata (2.7 kB)\n",
      "Collecting uritemplate<5,>=3.0.1 (from google-api-python-client)\n",
      "  Downloading uritemplate-4.1.1-py2.py3-none-any.whl.metadata (2.9 kB)\n",
      "Collecting googleapis-common-protos<2.0.dev0,>=1.56.2 (from google-api-core!=2.0.*,!=2.1.*,!=2.2.*,!=2.3.0,<3.0.0.dev0,>=1.31.5->google-api-python-client)\n",
      "  Downloading googleapis_common_protos-1.65.0-py2.py3-none-any.whl.metadata (1.5 kB)\n",
      "Requirement already satisfied: protobuf!=3.20.0,!=3.20.1,!=4.21.0,!=4.21.1,!=4.21.2,!=4.21.3,!=4.21.4,!=4.21.5,<6.0.0.dev0,>=3.19.5 in /home/ashwathama/anaconda3/lib/python3.12/site-packages (from google-api-core!=2.0.*,!=2.1.*,!=2.2.*,!=2.3.0,<3.0.0.dev0,>=1.31.5->google-api-python-client) (3.20.3)\n",
      "Collecting proto-plus<2.0.0dev,>=1.22.3 (from google-api-core!=2.0.*,!=2.1.*,!=2.2.*,!=2.3.0,<3.0.0.dev0,>=1.31.5->google-api-python-client)\n",
      "  Downloading proto_plus-1.24.0-py3-none-any.whl.metadata (2.2 kB)\n",
      "Requirement already satisfied: requests<3.0.0.dev0,>=2.18.0 in /home/ashwathama/anaconda3/lib/python3.12/site-packages (from google-api-core!=2.0.*,!=2.1.*,!=2.2.*,!=2.3.0,<3.0.0.dev0,>=1.31.5->google-api-python-client) (2.32.2)\n",
      "Requirement already satisfied: pyparsing!=3.0.0,!=3.0.1,!=3.0.2,!=3.0.3,<4,>=2.4.2 in /home/ashwathama/anaconda3/lib/python3.12/site-packages (from httplib2>=0.19.0->google-auth-httplib2) (3.0.9)\n",
      "Requirement already satisfied: pyasn1<0.5.0,>=0.4.6 in /home/ashwathama/anaconda3/lib/python3.12/site-packages (from pyasn1-modules>=0.2.1->google-auth) (0.4.8)\n",
      "Collecting oauthlib>=3.0.0 (from requests-oauthlib>=0.7.0->google-auth-oauthlib)\n",
      "  Downloading oauthlib-3.2.2-py3-none-any.whl.metadata (7.5 kB)\n",
      "Requirement already satisfied: charset-normalizer<4,>=2 in /home/ashwathama/anaconda3/lib/python3.12/site-packages (from requests<3.0.0.dev0,>=2.18.0->google-api-core!=2.0.*,!=2.1.*,!=2.2.*,!=2.3.0,<3.0.0.dev0,>=1.31.5->google-api-python-client) (2.0.4)\n",
      "Requirement already satisfied: idna<4,>=2.5 in /home/ashwathama/anaconda3/lib/python3.12/site-packages (from requests<3.0.0.dev0,>=2.18.0->google-api-core!=2.0.*,!=2.1.*,!=2.2.*,!=2.3.0,<3.0.0.dev0,>=1.31.5->google-api-python-client) (3.7)\n",
      "Requirement already satisfied: urllib3<3,>=1.21.1 in /home/ashwathama/anaconda3/lib/python3.12/site-packages (from requests<3.0.0.dev0,>=2.18.0->google-api-core!=2.0.*,!=2.1.*,!=2.2.*,!=2.3.0,<3.0.0.dev0,>=1.31.5->google-api-python-client) (2.2.2)\n",
      "Requirement already satisfied: certifi>=2017.4.17 in /home/ashwathama/anaconda3/lib/python3.12/site-packages (from requests<3.0.0.dev0,>=2.18.0->google-api-core!=2.0.*,!=2.1.*,!=2.2.*,!=2.3.0,<3.0.0.dev0,>=1.31.5->google-api-python-client) (2024.7.4)\n",
      "Downloading google_auth-2.34.0-py2.py3-none-any.whl (200 kB)\n",
      "\u001b[2K   \u001b[90m━━━━━━━━━━━━━━━━━━━━━━━━━━━━━━━━━━━━━━━\u001b[0m \u001b[32m200.9/200.9 kB\u001b[0m \u001b[31m949.7 kB/s\u001b[0m eta \u001b[36m0:00:00\u001b[0ma \u001b[36m0:00:01\u001b[0m\n",
      "\u001b[?25hDownloading google_auth_oauthlib-1.2.1-py2.py3-none-any.whl (24 kB)\n",
      "Downloading google_auth_httplib2-0.2.0-py2.py3-none-any.whl (9.3 kB)\n",
      "Downloading google_api_python_client-2.143.0-py2.py3-none-any.whl (12.2 MB)\n",
      "\u001b[2K   \u001b[90m━━━━━━━━━━━━━━━━━━━━━━━━━━━━━━━━━━━━━━━━\u001b[0m \u001b[32m12.2/12.2 MB\u001b[0m \u001b[31m26.1 MB/s\u001b[0m eta \u001b[36m0:00:00\u001b[0ma \u001b[36m0:00:01\u001b[0m\n",
      "\u001b[?25hDownloading google_api_core-2.19.2-py3-none-any.whl (139 kB)\n",
      "\u001b[2K   \u001b[90m━━━━━━━━━━━━━━━━━━━━━━━━━━━━━━━━━━━━━━━━\u001b[0m \u001b[32m139.4/139.4 kB\u001b[0m \u001b[31m26.1 MB/s\u001b[0m eta \u001b[36m0:00:00\u001b[0m\n",
      "\u001b[?25hDownloading httplib2-0.22.0-py3-none-any.whl (96 kB)\n",
      "\u001b[2K   \u001b[90m━━━━━━━━━━━━━━━━━━━━━━━━━━━━━━━━━━━━━━━━\u001b[0m \u001b[32m96.9/96.9 kB\u001b[0m \u001b[31m12.1 MB/s\u001b[0m eta \u001b[36m0:00:00\u001b[0m\n",
      "\u001b[?25hDownloading requests_oauthlib-2.0.0-py2.py3-none-any.whl (24 kB)\n",
      "Downloading rsa-4.9-py3-none-any.whl (34 kB)\n",
      "Downloading uritemplate-4.1.1-py2.py3-none-any.whl (10 kB)\n",
      "Downloading googleapis_common_protos-1.65.0-py2.py3-none-any.whl (220 kB)\n",
      "\u001b[2K   \u001b[90m━━━━━━━━━━━━━━━━━━━━━━━━━━━━━━━━━━━━━━━━\u001b[0m \u001b[32m220.9/220.9 kB\u001b[0m \u001b[31m27.5 MB/s\u001b[0m eta \u001b[36m0:00:00\u001b[0m\n",
      "\u001b[?25hDownloading oauthlib-3.2.2-py3-none-any.whl (151 kB)\n",
      "\u001b[2K   \u001b[90m━━━━━━━━━━━━━━━━━━━━━━━━━━━━━━━━━━━━━━━━\u001b[0m \u001b[32m151.7/151.7 kB\u001b[0m \u001b[31m25.6 MB/s\u001b[0m eta \u001b[36m0:00:00\u001b[0m\n",
      "\u001b[?25hDownloading proto_plus-1.24.0-py3-none-any.whl (50 kB)\n",
      "\u001b[2K   \u001b[90m━━━━━━━━━━━━━━━━━━━━━━━━━━━━━━━━━━━━━━━━\u001b[0m \u001b[32m50.1/50.1 kB\u001b[0m \u001b[31m15.8 MB/s\u001b[0m eta \u001b[36m0:00:00\u001b[0m\n",
      "\u001b[?25hInstalling collected packages: uritemplate, rsa, proto-plus, oauthlib, httplib2, googleapis-common-protos, requests-oauthlib, google-auth, google-auth-oauthlib, google-auth-httplib2, google-api-core, google-api-python-client\n",
      "Successfully installed google-api-core-2.19.2 google-api-python-client-2.143.0 google-auth-2.34.0 google-auth-httplib2-0.2.0 google-auth-oauthlib-1.2.1 googleapis-common-protos-1.65.0 httplib2-0.22.0 oauthlib-3.2.2 proto-plus-1.24.0 requests-oauthlib-2.0.0 rsa-4.9 uritemplate-4.1.1\n",
      "Note: you may need to restart the kernel to use updated packages.\n"
     ]
    }
   ],
   "source": [
    "pip install google-auth google-auth-oauthlib google-auth-httplib2 google-api-python-client\n",
    "\n",
    "#google api for Google drive and client \n"
   ]
  },
  {
   "cell_type": "code",
   "execution_count": null,
   "id": "e6671ba3",
   "metadata": {},
   "outputs": [],
   "source": []
  }
 ],
 "metadata": {
  "kernelspec": {
   "display_name": "Python 3 (ipykernel)",
   "language": "python",
   "name": "python3"
  },
  "language_info": {
   "codemirror_mode": {
    "name": "ipython",
    "version": 3
   },
   "file_extension": ".py",
   "mimetype": "text/x-python",
   "name": "python",
   "nbconvert_exporter": "python",
   "pygments_lexer": "ipython3",
   "version": "3.12.4"
  }
 },
 "nbformat": 4,
 "nbformat_minor": 5
}
